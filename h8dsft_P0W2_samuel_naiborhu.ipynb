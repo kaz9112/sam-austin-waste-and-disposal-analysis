{
 "cells": [
  {
   "cell_type": "markdown",
   "metadata": {},
   "source": [
    "### *Sql query"
   ]
  },
  {
   "cell_type": "raw",
   "metadata": {},
   "source": [
    "SELECT  report_date, load_time, load_type, load_weight, dropoff_site  FROM `bigquery-public-data.austin_waste.waste_and_diversion`\n",
    "WHERE report_date BETWEEN '2021-01-01' AND '2021-07-09' \n",
    "ORDER BY report_date"
   ]
  },
  {
   "attachments": {},
   "cell_type": "markdown",
   "metadata": {},
   "source": [
    "You are a member of the Data Analyst team at Austin Smart City and working on a project to analyze the city's waste disposal and management system. As a team member, based on the available data, try to analyze the data using descriptive and inferential statistics, and provide insight to the Austin city government about the condition of the waste disposal and management system. Use the following guidelines/steps to make your analysis easier."
   ]
  },
  {
   "cell_type": "markdown",
   "metadata": {},
   "source": [
    "# Problem 1 (Stats)"
   ]
  },
  {
   "cell_type": "markdown",
   "metadata": {},
   "source": [
    "## I. Data Preprocessing"
   ]
  },
  {
   "cell_type": "markdown",
   "metadata": {},
   "source": [
    "### a. Import libraries and loading data"
   ]
  },
  {
   "cell_type": "code",
   "execution_count": 1,
   "metadata": {},
   "outputs": [],
   "source": [
    "# Import necessary libraries\n",
    "import pandas as pd"
   ]
  },
  {
   "cell_type": "code",
   "execution_count": 2,
   "metadata": {},
   "outputs": [],
   "source": [
    "# Loading data\n",
    "raw_data = pd.read_csv('h8dsft_P0GC2_samuel_naiborhu.csv')"
   ]
  },
  {
   "cell_type": "code",
   "execution_count": 3,
   "metadata": {},
   "outputs": [
    {
     "data": {
      "text/html": [
       "<div>\n",
       "<style scoped>\n",
       "    .dataframe tbody tr th:only-of-type {\n",
       "        vertical-align: middle;\n",
       "    }\n",
       "\n",
       "    .dataframe tbody tr th {\n",
       "        vertical-align: top;\n",
       "    }\n",
       "\n",
       "    .dataframe thead th {\n",
       "        text-align: right;\n",
       "    }\n",
       "</style>\n",
       "<table border=\"1\" class=\"dataframe\">\n",
       "  <thead>\n",
       "    <tr style=\"text-align: right;\">\n",
       "      <th></th>\n",
       "      <th>report_date</th>\n",
       "      <th>load_time</th>\n",
       "      <th>load_type</th>\n",
       "      <th>load_weight</th>\n",
       "      <th>dropoff_site</th>\n",
       "    </tr>\n",
       "  </thead>\n",
       "  <tbody>\n",
       "    <tr>\n",
       "      <th>0</th>\n",
       "      <td>2021-01-01</td>\n",
       "      <td>2021-01-01 12:00:00 UTC</td>\n",
       "      <td>SWEEPING</td>\n",
       "      <td>NaN</td>\n",
       "      <td>ONION CREEK</td>\n",
       "    </tr>\n",
       "    <tr>\n",
       "      <th>1</th>\n",
       "      <td>2021-01-01</td>\n",
       "      <td>2021-01-01 12:00:00 UTC</td>\n",
       "      <td>SWEEPING</td>\n",
       "      <td>NaN</td>\n",
       "      <td>ONION CREEK</td>\n",
       "    </tr>\n",
       "    <tr>\n",
       "      <th>2</th>\n",
       "      <td>2021-01-01</td>\n",
       "      <td>2021-01-01 12:00:00 UTC</td>\n",
       "      <td>SWEEPING</td>\n",
       "      <td>NaN</td>\n",
       "      <td>ONION CREEK</td>\n",
       "    </tr>\n",
       "    <tr>\n",
       "      <th>3</th>\n",
       "      <td>2021-01-01</td>\n",
       "      <td>2021-01-01 12:00:00 UTC</td>\n",
       "      <td>SWEEPING</td>\n",
       "      <td>NaN</td>\n",
       "      <td>ONION CREEK</td>\n",
       "    </tr>\n",
       "    <tr>\n",
       "      <th>4</th>\n",
       "      <td>2021-01-02</td>\n",
       "      <td>2021-01-02 09:24:00 UTC</td>\n",
       "      <td>TIRES</td>\n",
       "      <td>1640.0</td>\n",
       "      <td>MRF</td>\n",
       "    </tr>\n",
       "  </tbody>\n",
       "</table>\n",
       "</div>"
      ],
      "text/plain": [
       "  report_date                load_time load_type  load_weight dropoff_site\n",
       "0  2021-01-01  2021-01-01 12:00:00 UTC  SWEEPING          NaN  ONION CREEK\n",
       "1  2021-01-01  2021-01-01 12:00:00 UTC  SWEEPING          NaN  ONION CREEK\n",
       "2  2021-01-01  2021-01-01 12:00:00 UTC  SWEEPING          NaN  ONION CREEK\n",
       "3  2021-01-01  2021-01-01 12:00:00 UTC  SWEEPING          NaN  ONION CREEK\n",
       "4  2021-01-02  2021-01-02 09:24:00 UTC     TIRES       1640.0          MRF"
      ]
     },
     "execution_count": 3,
     "metadata": {},
     "output_type": "execute_result"
    }
   ],
   "source": [
    "# show data headers\n",
    "raw_data.head()"
   ]
  },
  {
   "cell_type": "code",
   "execution_count": 4,
   "metadata": {},
   "outputs": [
    {
     "data": {
      "text/html": [
       "<div>\n",
       "<style scoped>\n",
       "    .dataframe tbody tr th:only-of-type {\n",
       "        vertical-align: middle;\n",
       "    }\n",
       "\n",
       "    .dataframe tbody tr th {\n",
       "        vertical-align: top;\n",
       "    }\n",
       "\n",
       "    .dataframe thead th {\n",
       "        text-align: right;\n",
       "    }\n",
       "</style>\n",
       "<table border=\"1\" class=\"dataframe\">\n",
       "  <thead>\n",
       "    <tr style=\"text-align: right;\">\n",
       "      <th></th>\n",
       "      <th>report_date</th>\n",
       "      <th>load_time</th>\n",
       "      <th>load_type</th>\n",
       "      <th>load_weight</th>\n",
       "      <th>dropoff_site</th>\n",
       "    </tr>\n",
       "  </thead>\n",
       "  <tbody>\n",
       "    <tr>\n",
       "      <th>26152</th>\n",
       "      <td>2021-07-09</td>\n",
       "      <td>2021-07-09 09:48:00 UTC</td>\n",
       "      <td>BRUSH</td>\n",
       "      <td>8240.0</td>\n",
       "      <td>HORNSBY BEND</td>\n",
       "    </tr>\n",
       "    <tr>\n",
       "      <th>26153</th>\n",
       "      <td>2021-07-09</td>\n",
       "      <td>2021-07-09 12:02:00 UTC</td>\n",
       "      <td>BRUSH</td>\n",
       "      <td>4160.0</td>\n",
       "      <td>HORNSBY BEND</td>\n",
       "    </tr>\n",
       "    <tr>\n",
       "      <th>26154</th>\n",
       "      <td>2021-07-09</td>\n",
       "      <td>2021-07-09 11:55:00 UTC</td>\n",
       "      <td>BRUSH</td>\n",
       "      <td>4340.0</td>\n",
       "      <td>HORNSBY BEND</td>\n",
       "    </tr>\n",
       "    <tr>\n",
       "      <th>26155</th>\n",
       "      <td>2021-07-09</td>\n",
       "      <td>2021-07-09 12:00:00 UTC</td>\n",
       "      <td>LITTER</td>\n",
       "      <td>1900.0</td>\n",
       "      <td>TDS LANDFILL</td>\n",
       "    </tr>\n",
       "    <tr>\n",
       "      <th>26156</th>\n",
       "      <td>2021-07-09</td>\n",
       "      <td>2021-07-09 12:00:00 UTC</td>\n",
       "      <td>LITTER</td>\n",
       "      <td>3040.0</td>\n",
       "      <td>TDS LANDFILL</td>\n",
       "    </tr>\n",
       "  </tbody>\n",
       "</table>\n",
       "</div>"
      ],
      "text/plain": [
       "      report_date                load_time load_type  load_weight  \\\n",
       "26152  2021-07-09  2021-07-09 09:48:00 UTC     BRUSH       8240.0   \n",
       "26153  2021-07-09  2021-07-09 12:02:00 UTC     BRUSH       4160.0   \n",
       "26154  2021-07-09  2021-07-09 11:55:00 UTC     BRUSH       4340.0   \n",
       "26155  2021-07-09  2021-07-09 12:00:00 UTC    LITTER       1900.0   \n",
       "26156  2021-07-09  2021-07-09 12:00:00 UTC    LITTER       3040.0   \n",
       "\n",
       "       dropoff_site  \n",
       "26152  HORNSBY BEND  \n",
       "26153  HORNSBY BEND  \n",
       "26154  HORNSBY BEND  \n",
       "26155  TDS LANDFILL  \n",
       "26156  TDS LANDFILL  "
      ]
     },
     "execution_count": 4,
     "metadata": {},
     "output_type": "execute_result"
    }
   ],
   "source": [
    "# show data tails\n",
    "raw_data.tail()"
   ]
  },
  {
   "cell_type": "markdown",
   "metadata": {},
   "source": [
    "### b. Cleaning Data"
   ]
  },
  {
   "cell_type": "code",
   "execution_count": 5,
   "metadata": {},
   "outputs": [
    {
     "data": {
      "text/html": [
       "<div>\n",
       "<style scoped>\n",
       "    .dataframe tbody tr th:only-of-type {\n",
       "        vertical-align: middle;\n",
       "    }\n",
       "\n",
       "    .dataframe tbody tr th {\n",
       "        vertical-align: top;\n",
       "    }\n",
       "\n",
       "    .dataframe thead th {\n",
       "        text-align: right;\n",
       "    }\n",
       "</style>\n",
       "<table border=\"1\" class=\"dataframe\">\n",
       "  <thead>\n",
       "    <tr style=\"text-align: right;\">\n",
       "      <th></th>\n",
       "      <th>report_date</th>\n",
       "      <th>load_time</th>\n",
       "      <th>load_type</th>\n",
       "      <th>load_weight</th>\n",
       "      <th>dropoff_site</th>\n",
       "    </tr>\n",
       "  </thead>\n",
       "  <tbody>\n",
       "    <tr>\n",
       "      <th>20646</th>\n",
       "      <td>2021-05-27</td>\n",
       "      <td>2020-06-27 01:00:00 UTC</td>\n",
       "      <td>RECYCLING - SINGLE STREAM</td>\n",
       "      <td>5780.0</td>\n",
       "      <td>BALCONES RECYCLING</td>\n",
       "    </tr>\n",
       "    <tr>\n",
       "      <th>20654</th>\n",
       "      <td>2021-05-27</td>\n",
       "      <td>2020-06-27 01:33:00 UTC</td>\n",
       "      <td>RECYCLING - SINGLE STREAM</td>\n",
       "      <td>4620.0</td>\n",
       "      <td>BALCONES RECYCLING</td>\n",
       "    </tr>\n",
       "    <tr>\n",
       "      <th>20652</th>\n",
       "      <td>2021-05-27</td>\n",
       "      <td>2020-06-27 01:45:00 UTC</td>\n",
       "      <td>RECYCLING - SINGLE STREAM</td>\n",
       "      <td>18180.0</td>\n",
       "      <td>BALCONES RECYCLING</td>\n",
       "    </tr>\n",
       "    <tr>\n",
       "      <th>20645</th>\n",
       "      <td>2021-05-27</td>\n",
       "      <td>2020-06-27 09:30:00 UTC</td>\n",
       "      <td>RECYCLING - SINGLE STREAM</td>\n",
       "      <td>4380.0</td>\n",
       "      <td>BALCONES RECYCLING</td>\n",
       "    </tr>\n",
       "    <tr>\n",
       "      <th>20655</th>\n",
       "      <td>2021-05-27</td>\n",
       "      <td>2020-06-27 12:35:00 UTC</td>\n",
       "      <td>RECYCLING - SINGLE STREAM</td>\n",
       "      <td>15680.0</td>\n",
       "      <td>BALCONES RECYCLING</td>\n",
       "    </tr>\n",
       "    <tr>\n",
       "      <th>...</th>\n",
       "      <td>...</td>\n",
       "      <td>...</td>\n",
       "      <td>...</td>\n",
       "      <td>...</td>\n",
       "      <td>...</td>\n",
       "    </tr>\n",
       "    <tr>\n",
       "      <th>26155</th>\n",
       "      <td>2021-07-09</td>\n",
       "      <td>2021-07-09 12:00:00 UTC</td>\n",
       "      <td>LITTER</td>\n",
       "      <td>1900.0</td>\n",
       "      <td>TDS LANDFILL</td>\n",
       "    </tr>\n",
       "    <tr>\n",
       "      <th>26153</th>\n",
       "      <td>2021-07-09</td>\n",
       "      <td>2021-07-09 12:02:00 UTC</td>\n",
       "      <td>BRUSH</td>\n",
       "      <td>4160.0</td>\n",
       "      <td>HORNSBY BEND</td>\n",
       "    </tr>\n",
       "    <tr>\n",
       "      <th>26147</th>\n",
       "      <td>2021-07-09</td>\n",
       "      <td>2021-07-09 12:39:00 UTC</td>\n",
       "      <td>BRUSH</td>\n",
       "      <td>7140.0</td>\n",
       "      <td>HORNSBY BEND</td>\n",
       "    </tr>\n",
       "    <tr>\n",
       "      <th>25046</th>\n",
       "      <td>2021-06-30</td>\n",
       "      <td>2021-07-11 07:07:42 UTC</td>\n",
       "      <td>GARBAGE COLLECTIONS</td>\n",
       "      <td>17200.0</td>\n",
       "      <td>TDS LANDFILL</td>\n",
       "    </tr>\n",
       "    <tr>\n",
       "      <th>24738</th>\n",
       "      <td>2021-06-28</td>\n",
       "      <td>2021-07-11 07:07:45 UTC</td>\n",
       "      <td>MIXED LITTER</td>\n",
       "      <td>3140.0</td>\n",
       "      <td>TDS LANDFILL</td>\n",
       "    </tr>\n",
       "  </tbody>\n",
       "</table>\n",
       "<p>26157 rows × 5 columns</p>\n",
       "</div>"
      ],
      "text/plain": [
       "      report_date                load_time                  load_type  \\\n",
       "20646  2021-05-27  2020-06-27 01:00:00 UTC  RECYCLING - SINGLE STREAM   \n",
       "20654  2021-05-27  2020-06-27 01:33:00 UTC  RECYCLING - SINGLE STREAM   \n",
       "20652  2021-05-27  2020-06-27 01:45:00 UTC  RECYCLING - SINGLE STREAM   \n",
       "20645  2021-05-27  2020-06-27 09:30:00 UTC  RECYCLING - SINGLE STREAM   \n",
       "20655  2021-05-27  2020-06-27 12:35:00 UTC  RECYCLING - SINGLE STREAM   \n",
       "...           ...                      ...                        ...   \n",
       "26155  2021-07-09  2021-07-09 12:00:00 UTC                     LITTER   \n",
       "26153  2021-07-09  2021-07-09 12:02:00 UTC                      BRUSH   \n",
       "26147  2021-07-09  2021-07-09 12:39:00 UTC                      BRUSH   \n",
       "25046  2021-06-30  2021-07-11 07:07:42 UTC        GARBAGE COLLECTIONS   \n",
       "24738  2021-06-28  2021-07-11 07:07:45 UTC               MIXED LITTER   \n",
       "\n",
       "       load_weight        dropoff_site  \n",
       "20646       5780.0  BALCONES RECYCLING  \n",
       "20654       4620.0  BALCONES RECYCLING  \n",
       "20652      18180.0  BALCONES RECYCLING  \n",
       "20645       4380.0  BALCONES RECYCLING  \n",
       "20655      15680.0  BALCONES RECYCLING  \n",
       "...            ...                 ...  \n",
       "26155       1900.0        TDS LANDFILL  \n",
       "26153       4160.0        HORNSBY BEND  \n",
       "26147       7140.0        HORNSBY BEND  \n",
       "25046      17200.0        TDS LANDFILL  \n",
       "24738       3140.0        TDS LANDFILL  \n",
       "\n",
       "[26157 rows x 5 columns]"
      ]
     },
     "execution_count": 5,
     "metadata": {},
     "output_type": "execute_result"
    }
   ],
   "source": [
    "raw_data.sort_values(by='load_time', ascending=True)"
   ]
  },
  {
   "cell_type": "markdown",
   "metadata": {},
   "source": [
    "if we view the data sort by load time we can find there is data before 2021, since we only need data in 2021, we're going to drop them"
   ]
  },
  {
   "cell_type": "code",
   "execution_count": 6,
   "metadata": {},
   "outputs": [],
   "source": [
    "# drop data before 2021\n",
    "raw_data = raw_data[raw_data['load_time'] > '2021-01-01 00:00:00 UTC']"
   ]
  },
  {
   "cell_type": "code",
   "execution_count": 7,
   "metadata": {},
   "outputs": [
    {
     "data": {
      "text/html": [
       "<div>\n",
       "<style scoped>\n",
       "    .dataframe tbody tr th:only-of-type {\n",
       "        vertical-align: middle;\n",
       "    }\n",
       "\n",
       "    .dataframe tbody tr th {\n",
       "        vertical-align: top;\n",
       "    }\n",
       "\n",
       "    .dataframe thead th {\n",
       "        text-align: right;\n",
       "    }\n",
       "</style>\n",
       "<table border=\"1\" class=\"dataframe\">\n",
       "  <thead>\n",
       "    <tr style=\"text-align: right;\">\n",
       "      <th></th>\n",
       "      <th>report_date</th>\n",
       "      <th>load_time</th>\n",
       "      <th>load_type</th>\n",
       "      <th>load_weight</th>\n",
       "      <th>dropoff_site</th>\n",
       "    </tr>\n",
       "  </thead>\n",
       "  <tbody>\n",
       "  </tbody>\n",
       "</table>\n",
       "</div>"
      ],
      "text/plain": [
       "Empty DataFrame\n",
       "Columns: [report_date, load_time, load_type, load_weight, dropoff_site]\n",
       "Index: []"
      ]
     },
     "execution_count": 7,
     "metadata": {},
     "output_type": "execute_result"
    }
   ],
   "source": [
    "# recheck data before 2021\n",
    "raw_data[raw_data['load_time'] < '2021-01-01 00:00:00 UTC']"
   ]
  },
  {
   "cell_type": "code",
   "execution_count": 8,
   "metadata": {},
   "outputs": [
    {
     "data": {
      "text/plain": [
       "report_date        0\n",
       "load_time          0\n",
       "load_type          0\n",
       "load_weight     1048\n",
       "dropoff_site       0\n",
       "dtype: int64"
      ]
     },
     "execution_count": 8,
     "metadata": {},
     "output_type": "execute_result"
    }
   ],
   "source": [
    "# check null values\n",
    "raw_data.isnull().sum()"
   ]
  },
  {
   "cell_type": "markdown",
   "metadata": {},
   "source": [
    "##### Replace null values with median values per load type group"
   ]
  },
  {
   "cell_type": "markdown",
   "metadata": {},
   "source": [
    "Instead of using median on the whole data for fillna, we use the median on every load_type. In case we want to do some more detailed analysis later."
   ]
  },
  {
   "cell_type": "code",
   "execution_count": 9,
   "metadata": {},
   "outputs": [
    {
     "data": {
      "text/plain": [
       "array(['SWEEPING', 'TIRES', 'RECYCLING - SINGLE STREAM', 'YARD TRIMMING',\n",
       "       'BULK', 'DEAD ANIMAL', 'GARBAGE COLLECTIONS', 'MIXED LITTER',\n",
       "       'ORGANICS', 'BRUSH', 'RECYCLED METAL', 'LITTER',\n",
       "       'CONTAMINATED RECYCLING', 'CONTAMINATED ORGANICS'], dtype=object)"
      ]
     },
     "execution_count": 9,
     "metadata": {},
     "output_type": "execute_result"
    }
   ],
   "source": [
    "# check unique values\n",
    "raw_data['load_type'].unique()"
   ]
  },
  {
   "cell_type": "code",
   "execution_count": 10,
   "metadata": {},
   "outputs": [
    {
     "data": {
      "text/plain": [
       "GARBAGE COLLECTIONS          8241\n",
       "RECYCLING - SINGLE STREAM    6754\n",
       "ORGANICS                     5763\n",
       "BULK                         1594\n",
       "BRUSH                        1517\n",
       "SWEEPING                     1390\n",
       "MIXED LITTER                  329\n",
       "TIRES                         175\n",
       "DEAD ANIMAL                   150\n",
       "YARD TRIMMING                 137\n",
       "RECYCLED METAL                 57\n",
       "LITTER                         41\n",
       "CONTAMINATED RECYCLING          1\n",
       "CONTAMINATED ORGANICS           1\n",
       "Name: load_type, dtype: int64"
      ]
     },
     "execution_count": 10,
     "metadata": {},
     "output_type": "execute_result"
    }
   ],
   "source": [
    "# check unique values count\n",
    "raw_data['load_type'].value_counts()"
   ]
  },
  {
   "cell_type": "code",
   "execution_count": 11,
   "metadata": {},
   "outputs": [
    {
     "data": {
      "text/html": [
       "<div>\n",
       "<style scoped>\n",
       "    .dataframe tbody tr th:only-of-type {\n",
       "        vertical-align: middle;\n",
       "    }\n",
       "\n",
       "    .dataframe tbody tr th {\n",
       "        vertical-align: top;\n",
       "    }\n",
       "\n",
       "    .dataframe thead th {\n",
       "        text-align: right;\n",
       "    }\n",
       "</style>\n",
       "<table border=\"1\" class=\"dataframe\">\n",
       "  <thead>\n",
       "    <tr style=\"text-align: right;\">\n",
       "      <th></th>\n",
       "      <th>load_type</th>\n",
       "      <th>load_weight</th>\n",
       "    </tr>\n",
       "  </thead>\n",
       "  <tbody>\n",
       "    <tr>\n",
       "      <th>0</th>\n",
       "      <td>SWEEPING</td>\n",
       "      <td>NaN</td>\n",
       "    </tr>\n",
       "    <tr>\n",
       "      <th>1</th>\n",
       "      <td>SWEEPING</td>\n",
       "      <td>NaN</td>\n",
       "    </tr>\n",
       "    <tr>\n",
       "      <th>2</th>\n",
       "      <td>SWEEPING</td>\n",
       "      <td>NaN</td>\n",
       "    </tr>\n",
       "    <tr>\n",
       "      <th>3</th>\n",
       "      <td>SWEEPING</td>\n",
       "      <td>NaN</td>\n",
       "    </tr>\n",
       "    <tr>\n",
       "      <th>4</th>\n",
       "      <td>TIRES</td>\n",
       "      <td>1640.0</td>\n",
       "    </tr>\n",
       "    <tr>\n",
       "      <th>...</th>\n",
       "      <td>...</td>\n",
       "      <td>...</td>\n",
       "    </tr>\n",
       "    <tr>\n",
       "      <th>26152</th>\n",
       "      <td>BRUSH</td>\n",
       "      <td>8240.0</td>\n",
       "    </tr>\n",
       "    <tr>\n",
       "      <th>26153</th>\n",
       "      <td>BRUSH</td>\n",
       "      <td>4160.0</td>\n",
       "    </tr>\n",
       "    <tr>\n",
       "      <th>26154</th>\n",
       "      <td>BRUSH</td>\n",
       "      <td>4340.0</td>\n",
       "    </tr>\n",
       "    <tr>\n",
       "      <th>26155</th>\n",
       "      <td>LITTER</td>\n",
       "      <td>1900.0</td>\n",
       "    </tr>\n",
       "    <tr>\n",
       "      <th>26156</th>\n",
       "      <td>LITTER</td>\n",
       "      <td>3040.0</td>\n",
       "    </tr>\n",
       "  </tbody>\n",
       "</table>\n",
       "<p>26150 rows × 2 columns</p>\n",
       "</div>"
      ],
      "text/plain": [
       "      load_type  load_weight\n",
       "0      SWEEPING          NaN\n",
       "1      SWEEPING          NaN\n",
       "2      SWEEPING          NaN\n",
       "3      SWEEPING          NaN\n",
       "4         TIRES       1640.0\n",
       "...         ...          ...\n",
       "26152     BRUSH       8240.0\n",
       "26153     BRUSH       4160.0\n",
       "26154     BRUSH       4340.0\n",
       "26155    LITTER       1900.0\n",
       "26156    LITTER       3040.0\n",
       "\n",
       "[26150 rows x 2 columns]"
      ]
     },
     "execution_count": 11,
     "metadata": {},
     "output_type": "execute_result"
    }
   ],
   "source": [
    "# make new group for median\n",
    "median_load_type_group = raw_data[['load_type', 'load_weight']]\n",
    "\n",
    "median_load_type_group"
   ]
  },
  {
   "cell_type": "code",
   "execution_count": 12,
   "metadata": {},
   "outputs": [],
   "source": [
    "# get median for every load type\n",
    "median_load_type_group = median_load_type_group.groupby(['load_type'])['load_weight'].median().reset_index()"
   ]
  },
  {
   "cell_type": "code",
   "execution_count": 13,
   "metadata": {},
   "outputs": [
    {
     "data": {
      "text/html": [
       "<div>\n",
       "<style scoped>\n",
       "    .dataframe tbody tr th:only-of-type {\n",
       "        vertical-align: middle;\n",
       "    }\n",
       "\n",
       "    .dataframe tbody tr th {\n",
       "        vertical-align: top;\n",
       "    }\n",
       "\n",
       "    .dataframe thead th {\n",
       "        text-align: right;\n",
       "    }\n",
       "</style>\n",
       "<table border=\"1\" class=\"dataframe\">\n",
       "  <thead>\n",
       "    <tr style=\"text-align: right;\">\n",
       "      <th></th>\n",
       "      <th>load_type</th>\n",
       "      <th>load_weight</th>\n",
       "    </tr>\n",
       "  </thead>\n",
       "  <tbody>\n",
       "    <tr>\n",
       "      <th>0</th>\n",
       "      <td>BRUSH</td>\n",
       "      <td>6180.0</td>\n",
       "    </tr>\n",
       "    <tr>\n",
       "      <th>1</th>\n",
       "      <td>BULK</td>\n",
       "      <td>8040.0</td>\n",
       "    </tr>\n",
       "    <tr>\n",
       "      <th>2</th>\n",
       "      <td>CONTAMINATED ORGANICS</td>\n",
       "      <td>25380.0</td>\n",
       "    </tr>\n",
       "    <tr>\n",
       "      <th>3</th>\n",
       "      <td>CONTAMINATED RECYCLING</td>\n",
       "      <td>5160.0</td>\n",
       "    </tr>\n",
       "    <tr>\n",
       "      <th>4</th>\n",
       "      <td>DEAD ANIMAL</td>\n",
       "      <td>100.0</td>\n",
       "    </tr>\n",
       "    <tr>\n",
       "      <th>5</th>\n",
       "      <td>GARBAGE COLLECTIONS</td>\n",
       "      <td>18130.0</td>\n",
       "    </tr>\n",
       "    <tr>\n",
       "      <th>6</th>\n",
       "      <td>LITTER</td>\n",
       "      <td>2780.0</td>\n",
       "    </tr>\n",
       "    <tr>\n",
       "      <th>7</th>\n",
       "      <td>MIXED LITTER</td>\n",
       "      <td>2900.0</td>\n",
       "    </tr>\n",
       "    <tr>\n",
       "      <th>8</th>\n",
       "      <td>ORGANICS</td>\n",
       "      <td>11920.0</td>\n",
       "    </tr>\n",
       "    <tr>\n",
       "      <th>9</th>\n",
       "      <td>RECYCLED METAL</td>\n",
       "      <td>460.0</td>\n",
       "    </tr>\n",
       "    <tr>\n",
       "      <th>10</th>\n",
       "      <td>RECYCLING - SINGLE STREAM</td>\n",
       "      <td>10040.0</td>\n",
       "    </tr>\n",
       "    <tr>\n",
       "      <th>11</th>\n",
       "      <td>SWEEPING</td>\n",
       "      <td>9310.0</td>\n",
       "    </tr>\n",
       "    <tr>\n",
       "      <th>12</th>\n",
       "      <td>TIRES</td>\n",
       "      <td>1400.0</td>\n",
       "    </tr>\n",
       "    <tr>\n",
       "      <th>13</th>\n",
       "      <td>YARD TRIMMING</td>\n",
       "      <td>11060.0</td>\n",
       "    </tr>\n",
       "  </tbody>\n",
       "</table>\n",
       "</div>"
      ],
      "text/plain": [
       "                    load_type  load_weight\n",
       "0                       BRUSH       6180.0\n",
       "1                        BULK       8040.0\n",
       "2       CONTAMINATED ORGANICS      25380.0\n",
       "3      CONTAMINATED RECYCLING       5160.0\n",
       "4                 DEAD ANIMAL        100.0\n",
       "5         GARBAGE COLLECTIONS      18130.0\n",
       "6                      LITTER       2780.0\n",
       "7                MIXED LITTER       2900.0\n",
       "8                    ORGANICS      11920.0\n",
       "9              RECYCLED METAL        460.0\n",
       "10  RECYCLING - SINGLE STREAM      10040.0\n",
       "11                   SWEEPING       9310.0\n",
       "12                      TIRES       1400.0\n",
       "13              YARD TRIMMING      11060.0"
      ]
     },
     "execution_count": 13,
     "metadata": {},
     "output_type": "execute_result"
    }
   ],
   "source": [
    "# Summarize the median per load type\n",
    "median_load_type_group"
   ]
  },
  {
   "cell_type": "code",
   "execution_count": 14,
   "metadata": {},
   "outputs": [],
   "source": [
    "# Copy raw_data\n",
    "raw_data_2 = raw_data.copy()"
   ]
  },
  {
   "cell_type": "code",
   "execution_count": 15,
   "metadata": {},
   "outputs": [],
   "source": [
    "# Fillna with medians of every load_type\n",
    "raw_data_2['load_weight'] = raw_data_2.groupby(['load_type'], sort=False)['load_weight'].apply(lambda x: x.fillna(x.median()))\n"
   ]
  },
  {
   "cell_type": "code",
   "execution_count": 16,
   "metadata": {},
   "outputs": [
    {
     "data": {
      "text/plain": [
       "report_date     0\n",
       "load_time       0\n",
       "load_type       0\n",
       "load_weight     0\n",
       "dropoff_site    0\n",
       "dtype: int64"
      ]
     },
     "execution_count": 16,
     "metadata": {},
     "output_type": "execute_result"
    }
   ],
   "source": [
    "raw_data_2.isnull().sum()"
   ]
  },
  {
   "cell_type": "code",
   "execution_count": 17,
   "metadata": {},
   "outputs": [],
   "source": [
    "cleaned_data = raw_data_2.copy().reset_index()"
   ]
  },
  {
   "cell_type": "markdown",
   "metadata": {},
   "source": [
    "## II. Data Exploration"
   ]
  },
  {
   "cell_type": "code",
   "execution_count": 18,
   "metadata": {},
   "outputs": [
    {
     "data": {
      "text/html": [
       "<div>\n",
       "<style scoped>\n",
       "    .dataframe tbody tr th:only-of-type {\n",
       "        vertical-align: middle;\n",
       "    }\n",
       "\n",
       "    .dataframe tbody tr th {\n",
       "        vertical-align: top;\n",
       "    }\n",
       "\n",
       "    .dataframe thead th {\n",
       "        text-align: right;\n",
       "    }\n",
       "</style>\n",
       "<table border=\"1\" class=\"dataframe\">\n",
       "  <thead>\n",
       "    <tr style=\"text-align: right;\">\n",
       "      <th></th>\n",
       "      <th>report_date</th>\n",
       "      <th>load_weight</th>\n",
       "    </tr>\n",
       "  </thead>\n",
       "  <tbody>\n",
       "    <tr>\n",
       "      <th>0</th>\n",
       "      <td>2021-01-01</td>\n",
       "      <td>37240.0</td>\n",
       "    </tr>\n",
       "    <tr>\n",
       "      <th>1</th>\n",
       "      <td>2021-01-02</td>\n",
       "      <td>2198060.0</td>\n",
       "    </tr>\n",
       "    <tr>\n",
       "      <th>2</th>\n",
       "      <td>2021-01-04</td>\n",
       "      <td>2920260.0</td>\n",
       "    </tr>\n",
       "    <tr>\n",
       "      <th>3</th>\n",
       "      <td>2021-01-05</td>\n",
       "      <td>2397850.0</td>\n",
       "    </tr>\n",
       "    <tr>\n",
       "      <th>4</th>\n",
       "      <td>2021-01-06</td>\n",
       "      <td>2443100.0</td>\n",
       "    </tr>\n",
       "    <tr>\n",
       "      <th>...</th>\n",
       "      <td>...</td>\n",
       "      <td>...</td>\n",
       "    </tr>\n",
       "    <tr>\n",
       "      <th>161</th>\n",
       "      <td>2021-07-05</td>\n",
       "      <td>1897290.0</td>\n",
       "    </tr>\n",
       "    <tr>\n",
       "      <th>162</th>\n",
       "      <td>2021-07-06</td>\n",
       "      <td>1977500.0</td>\n",
       "    </tr>\n",
       "    <tr>\n",
       "      <th>163</th>\n",
       "      <td>2021-07-07</td>\n",
       "      <td>1636870.0</td>\n",
       "    </tr>\n",
       "    <tr>\n",
       "      <th>164</th>\n",
       "      <td>2021-07-08</td>\n",
       "      <td>1520060.0</td>\n",
       "    </tr>\n",
       "    <tr>\n",
       "      <th>165</th>\n",
       "      <td>2021-07-09</td>\n",
       "      <td>166890.0</td>\n",
       "    </tr>\n",
       "  </tbody>\n",
       "</table>\n",
       "<p>166 rows × 2 columns</p>\n",
       "</div>"
      ],
      "text/plain": [
       "    report_date  load_weight\n",
       "0    2021-01-01      37240.0\n",
       "1    2021-01-02    2198060.0\n",
       "2    2021-01-04    2920260.0\n",
       "3    2021-01-05    2397850.0\n",
       "4    2021-01-06    2443100.0\n",
       "..          ...          ...\n",
       "161  2021-07-05    1897290.0\n",
       "162  2021-07-06    1977500.0\n",
       "163  2021-07-07    1636870.0\n",
       "164  2021-07-08    1520060.0\n",
       "165  2021-07-09     166890.0\n",
       "\n",
       "[166 rows x 2 columns]"
      ]
     },
     "execution_count": 18,
     "metadata": {},
     "output_type": "execute_result"
    }
   ],
   "source": [
    "# view report date span with load_weight per day\n",
    "date_span = cleaned_data[['report_date', 'load_weight']]\n",
    "date_span\n",
    "\n",
    "date_span_group = date_span.groupby(['report_date'])['load_weight'].sum().reset_index()\n",
    "date_span_group"
   ]
  },
  {
   "cell_type": "markdown",
   "metadata": {},
   "source": [
    "from the table above, we can see there are 166 day reports"
   ]
  },
  {
   "cell_type": "code",
   "execution_count": 19,
   "metadata": {},
   "outputs": [
    {
     "data": {
      "text/plain": [
       "GARBAGE COLLECTIONS          8241\n",
       "RECYCLING - SINGLE STREAM    6754\n",
       "ORGANICS                     5763\n",
       "BULK                         1594\n",
       "BRUSH                        1517\n",
       "SWEEPING                     1390\n",
       "MIXED LITTER                  329\n",
       "TIRES                         175\n",
       "DEAD ANIMAL                   150\n",
       "YARD TRIMMING                 137\n",
       "RECYCLED METAL                 57\n",
       "LITTER                         41\n",
       "CONTAMINATED RECYCLING          1\n",
       "CONTAMINATED ORGANICS           1\n",
       "Name: load_type, dtype: int64"
      ]
     },
     "execution_count": 19,
     "metadata": {},
     "output_type": "execute_result"
    }
   ],
   "source": [
    "# Type of garbage in austin and how many times garbage type reported\n",
    "cleaned_data['load_type'].value_counts()"
   ]
  },
  {
   "cell_type": "code",
   "execution_count": 20,
   "metadata": {},
   "outputs": [
    {
     "data": {
      "text/html": [
       "<div>\n",
       "<style scoped>\n",
       "    .dataframe tbody tr th:only-of-type {\n",
       "        vertical-align: middle;\n",
       "    }\n",
       "\n",
       "    .dataframe tbody tr th {\n",
       "        vertical-align: top;\n",
       "    }\n",
       "\n",
       "    .dataframe thead th {\n",
       "        text-align: right;\n",
       "    }\n",
       "</style>\n",
       "<table border=\"1\" class=\"dataframe\">\n",
       "  <thead>\n",
       "    <tr style=\"text-align: right;\">\n",
       "      <th></th>\n",
       "      <th>0</th>\n",
       "    </tr>\n",
       "  </thead>\n",
       "  <tbody>\n",
       "    <tr>\n",
       "      <th>0</th>\n",
       "      <td>ONION CREEK</td>\n",
       "    </tr>\n",
       "    <tr>\n",
       "      <th>1</th>\n",
       "      <td>MRF</td>\n",
       "    </tr>\n",
       "    <tr>\n",
       "      <th>2</th>\n",
       "      <td>TDS - MRF</td>\n",
       "    </tr>\n",
       "    <tr>\n",
       "      <th>3</th>\n",
       "      <td>HORNSBY BEND</td>\n",
       "    </tr>\n",
       "    <tr>\n",
       "      <th>4</th>\n",
       "      <td>TDS LANDFILL</td>\n",
       "    </tr>\n",
       "    <tr>\n",
       "      <th>5</th>\n",
       "      <td>ORGANICS BY GOSH</td>\n",
       "    </tr>\n",
       "    <tr>\n",
       "      <th>6</th>\n",
       "      <td>BALCONES RECYCLING</td>\n",
       "    </tr>\n",
       "    <tr>\n",
       "      <th>7</th>\n",
       "      <td>AUSTIN IRON AND METAL</td>\n",
       "    </tr>\n",
       "    <tr>\n",
       "      <th>8</th>\n",
       "      <td>PARK CENTER</td>\n",
       "    </tr>\n",
       "    <tr>\n",
       "      <th>9</th>\n",
       "      <td>ON ROUTE HIGH DUMP</td>\n",
       "    </tr>\n",
       "    <tr>\n",
       "      <th>10</th>\n",
       "      <td>WILCAB</td>\n",
       "    </tr>\n",
       "    <tr>\n",
       "      <th>11</th>\n",
       "      <td>GREAT NORTHERN</td>\n",
       "    </tr>\n",
       "    <tr>\n",
       "      <th>12</th>\n",
       "      <td>AUSTIN WOOD RECYCLING</td>\n",
       "    </tr>\n",
       "    <tr>\n",
       "      <th>13</th>\n",
       "      <td>PARK BEND</td>\n",
       "    </tr>\n",
       "    <tr>\n",
       "      <th>14</th>\n",
       "      <td>BALCONES WOODS</td>\n",
       "    </tr>\n",
       "    <tr>\n",
       "      <th>15</th>\n",
       "      <td>STEINER LANDFILL</td>\n",
       "    </tr>\n",
       "    <tr>\n",
       "      <th>16</th>\n",
       "      <td>WESTFIELD</td>\n",
       "    </tr>\n",
       "    <tr>\n",
       "      <th>17</th>\n",
       "      <td>ST. EDWARDS</td>\n",
       "    </tr>\n",
       "  </tbody>\n",
       "</table>\n",
       "</div>"
      ],
      "text/plain": [
       "                        0\n",
       "0             ONION CREEK\n",
       "1                     MRF\n",
       "2               TDS - MRF\n",
       "3            HORNSBY BEND\n",
       "4            TDS LANDFILL\n",
       "5        ORGANICS BY GOSH\n",
       "6      BALCONES RECYCLING\n",
       "7   AUSTIN IRON AND METAL\n",
       "8             PARK CENTER\n",
       "9      ON ROUTE HIGH DUMP\n",
       "10                 WILCAB\n",
       "11         GREAT NORTHERN\n",
       "12  AUSTIN WOOD RECYCLING\n",
       "13              PARK BEND\n",
       "14         BALCONES WOODS\n",
       "15       STEINER LANDFILL\n",
       "16              WESTFIELD\n",
       "17            ST. EDWARDS"
      ]
     },
     "execution_count": 20,
     "metadata": {},
     "output_type": "execute_result"
    }
   ],
   "source": [
    "# dropoff sites\n",
    "pd.DataFrame(pd.unique(cleaned_data['dropoff_site']))"
   ]
  },
  {
   "cell_type": "markdown",
   "metadata": {},
   "source": [
    "## III. Central Tendency"
   ]
  },
  {
   "cell_type": "code",
   "execution_count": 21,
   "metadata": {},
   "outputs": [
    {
     "data": {
      "text/plain": [
       "12111.36350055067"
      ]
     },
     "execution_count": 21,
     "metadata": {},
     "output_type": "execute_result"
    }
   ],
   "source": [
    "# load weight mean\n",
    "cleaned_data['load_weight'].mean()"
   ]
  },
  {
   "cell_type": "code",
   "execution_count": 22,
   "metadata": {},
   "outputs": [
    {
     "data": {
      "text/plain": [
       "11000.0"
      ]
     },
     "execution_count": 22,
     "metadata": {},
     "output_type": "execute_result"
    }
   ],
   "source": [
    "# load weight median\n",
    "cleaned_data['load_weight'].median()"
   ]
  },
  {
   "cell_type": "code",
   "execution_count": 23,
   "metadata": {},
   "outputs": [
    {
     "data": {
      "text/plain": [
       "0    9310.0\n",
       "Name: load_weight, dtype: float64"
      ]
     },
     "execution_count": 23,
     "metadata": {},
     "output_type": "execute_result"
    }
   ],
   "source": [
    "# load weight modus\n",
    "cleaned_data['load_weight'].mode()"
   ]
  },
  {
   "cell_type": "markdown",
   "metadata": {},
   "source": [
    "## IV. Explore and choose site"
   ]
  },
  {
   "cell_type": "code",
   "execution_count": 24,
   "metadata": {},
   "outputs": [
    {
     "data": {
      "text/plain": [
       "TDS LANDFILL             10693\n",
       "ORGANICS BY GOSH          5755\n",
       "BALCONES RECYCLING        3831\n",
       "TDS - MRF                 2948\n",
       "HORNSBY BEND              1655\n",
       "ONION CREEK                813\n",
       "MRF                        168\n",
       "ON ROUTE HIGH DUMP          81\n",
       "PARK CENTER                 75\n",
       "GREAT NORTHERN              70\n",
       "AUSTIN IRON AND METAL       50\n",
       "PARK BEND                    4\n",
       "AUSTIN WOOD RECYCLING        2\n",
       "WILCAB                       1\n",
       "BALCONES WOODS               1\n",
       "STEINER LANDFILL             1\n",
       "WESTFIELD                    1\n",
       "ST. EDWARDS                  1\n",
       "Name: dropoff_site, dtype: int64"
      ]
     },
     "execution_count": 24,
     "metadata": {},
     "output_type": "execute_result"
    }
   ],
   "source": [
    "# Find site with the most dropoff report\n",
    "cleaned_data['dropoff_site'].value_counts()"
   ]
  },
  {
   "cell_type": "markdown",
   "metadata": {},
   "source": [
    "We choose TDS Landfill, because it has the most data"
   ]
  },
  {
   "cell_type": "markdown",
   "metadata": {},
   "source": [
    "## V. Outlier"
   ]
  },
  {
   "cell_type": "code",
   "execution_count": 25,
   "metadata": {},
   "outputs": [
    {
     "data": {
      "text/html": [
       "<div>\n",
       "<style scoped>\n",
       "    .dataframe tbody tr th:only-of-type {\n",
       "        vertical-align: middle;\n",
       "    }\n",
       "\n",
       "    .dataframe tbody tr th {\n",
       "        vertical-align: top;\n",
       "    }\n",
       "\n",
       "    .dataframe thead th {\n",
       "        text-align: right;\n",
       "    }\n",
       "</style>\n",
       "<table border=\"1\" class=\"dataframe\">\n",
       "  <thead>\n",
       "    <tr style=\"text-align: right;\">\n",
       "      <th></th>\n",
       "      <th>dropoff_site</th>\n",
       "      <th>load_weight</th>\n",
       "    </tr>\n",
       "  </thead>\n",
       "  <tbody>\n",
       "    <tr>\n",
       "      <th>16</th>\n",
       "      <td>TDS LANDFILL</td>\n",
       "      <td>12480.0</td>\n",
       "    </tr>\n",
       "    <tr>\n",
       "      <th>17</th>\n",
       "      <td>TDS LANDFILL</td>\n",
       "      <td>10200.0</td>\n",
       "    </tr>\n",
       "    <tr>\n",
       "      <th>18</th>\n",
       "      <td>TDS LANDFILL</td>\n",
       "      <td>5440.0</td>\n",
       "    </tr>\n",
       "    <tr>\n",
       "      <th>19</th>\n",
       "      <td>TDS LANDFILL</td>\n",
       "      <td>140.0</td>\n",
       "    </tr>\n",
       "    <tr>\n",
       "      <th>20</th>\n",
       "      <td>TDS LANDFILL</td>\n",
       "      <td>24580.0</td>\n",
       "    </tr>\n",
       "    <tr>\n",
       "      <th>...</th>\n",
       "      <td>...</td>\n",
       "      <td>...</td>\n",
       "    </tr>\n",
       "    <tr>\n",
       "      <th>26090</th>\n",
       "      <td>TDS LANDFILL</td>\n",
       "      <td>8380.0</td>\n",
       "    </tr>\n",
       "    <tr>\n",
       "      <th>26091</th>\n",
       "      <td>TDS LANDFILL</td>\n",
       "      <td>2100.0</td>\n",
       "    </tr>\n",
       "    <tr>\n",
       "      <th>26092</th>\n",
       "      <td>TDS LANDFILL</td>\n",
       "      <td>3500.0</td>\n",
       "    </tr>\n",
       "    <tr>\n",
       "      <th>26148</th>\n",
       "      <td>TDS LANDFILL</td>\n",
       "      <td>1900.0</td>\n",
       "    </tr>\n",
       "    <tr>\n",
       "      <th>26149</th>\n",
       "      <td>TDS LANDFILL</td>\n",
       "      <td>3040.0</td>\n",
       "    </tr>\n",
       "  </tbody>\n",
       "</table>\n",
       "<p>10693 rows × 2 columns</p>\n",
       "</div>"
      ],
      "text/plain": [
       "       dropoff_site  load_weight\n",
       "16     TDS LANDFILL      12480.0\n",
       "17     TDS LANDFILL      10200.0\n",
       "18     TDS LANDFILL       5440.0\n",
       "19     TDS LANDFILL        140.0\n",
       "20     TDS LANDFILL      24580.0\n",
       "...             ...          ...\n",
       "26090  TDS LANDFILL       8380.0\n",
       "26091  TDS LANDFILL       2100.0\n",
       "26092  TDS LANDFILL       3500.0\n",
       "26148  TDS LANDFILL       1900.0\n",
       "26149  TDS LANDFILL       3040.0\n",
       "\n",
       "[10693 rows x 2 columns]"
      ]
     },
     "execution_count": 25,
     "metadata": {},
     "output_type": "execute_result"
    }
   ],
   "source": [
    "# define specific site_data for TDS LANDFILL\n",
    "site_data = cleaned_data[cleaned_data['dropoff_site'] == 'TDS LANDFILL']\n",
    "site_data = site_data[['dropoff_site', 'load_weight']]\n",
    "site_data"
   ]
  },
  {
   "cell_type": "code",
   "execution_count": 26,
   "metadata": {},
   "outputs": [
    {
     "data": {
      "image/png": "[encoded data removed]",
      "text/plain": [
       "<Figure size 432x288 with 1 Axes>"
      ]
     },
     "metadata": {},
     "output_type": "display_data"
    }
   ],
   "source": [
    "import matplotlib.pyplot as plt\n",
    "import seaborn as sns\n",
    "import scipy.stats as stats\n",
    "import numpy as np\n",
    "sns.set()\n",
    "\n",
    "site_data['load_weight'].plot.hist(title='Load weight distribution', color='lightblue', bins=25)  \n",
    "plt.axvline(site_data['load_weight'].mean(), color='magenta', linestyle='dashed', linewidth=2)\n",
    "plt.axvline(site_data['load_weight'].median(), color='green', linestyle='dashed', linewidth=2)\n",
    "plt.show()"
   ]
  },
  {
   "cell_type": "code",
   "execution_count": 27,
   "metadata": {},
   "outputs": [
    {
     "data": {
      "text/plain": [
       "(10693, 2)"
      ]
     },
     "execution_count": 27,
     "metadata": {},
     "output_type": "execute_result"
    }
   ],
   "source": [
    "# view total data we have\n",
    "site_data.shape"
   ]
  },
  {
   "cell_type": "code",
   "execution_count": 28,
   "metadata": {},
   "outputs": [
    {
     "name": "stdout",
     "output_type": "stream",
     "text": [
      "max value is 245540.0\n",
      "min value is 0.0\n"
     ]
    }
   ],
   "source": [
    "# find max values and min values\n",
    "print(f\"max value is {site_data['load_weight'].max()}\")\n",
    "print(f\"min value is {site_data['load_weight'].min()}\")"
   ]
  },
  {
   "cell_type": "code",
   "execution_count": 29,
   "metadata": {},
   "outputs": [],
   "source": [
    "# calculate outlier and remove them from the dataframe\n",
    "\n",
    "#define quantile from dataframe\n",
    "q1 = site_data['load_weight'].quantile(q=.25)\n",
    "q3 = site_data['load_weight'].quantile(q=.75)\n",
    "\n",
    "# use IQR method\n",
    "IQR = site_data['load_weight'].apply(stats.iqr)"
   ]
  },
  {
   "cell_type": "code",
   "execution_count": 30,
   "metadata": {},
   "outputs": [
    {
     "data": {
      "text/plain": [
       "8820.0"
      ]
     },
     "execution_count": 30,
     "metadata": {},
     "output_type": "execute_result"
    }
   ],
   "source": [
    "# view 0.25 quantile load weight\n",
    "q1"
   ]
  },
  {
   "cell_type": "code",
   "execution_count": 31,
   "metadata": {},
   "outputs": [
    {
     "data": {
      "text/plain": [
       "21660.0"
      ]
     },
     "execution_count": 31,
     "metadata": {},
     "output_type": "execute_result"
    }
   ],
   "source": [
    "# view 0.75 quantile load weight\n",
    "q3"
   ]
  },
  {
   "cell_type": "code",
   "execution_count": 32,
   "metadata": {},
   "outputs": [],
   "source": [
    "# remove the outlier below 0.25 and above 0.75 quantile\n",
    "data_site_clean = site_data[~((site_data['load_weight'] < (q1-1.5*IQR)) | (site_data['load_weight'] > (q3+1.5*IQR)))]"
   ]
  },
  {
   "cell_type": "code",
   "execution_count": 33,
   "metadata": {},
   "outputs": [
    {
     "data": {
      "text/plain": [
       "(5356, 2)"
      ]
     },
     "execution_count": 33,
     "metadata": {},
     "output_type": "execute_result"
    }
   ],
   "source": [
    "# new total data after removing outliers\n",
    "data_site_clean.shape"
   ]
  },
  {
   "cell_type": "code",
   "execution_count": 34,
   "metadata": {},
   "outputs": [
    {
     "data": {
      "text/plain": [
       "49.91115683157206"
      ]
     },
     "execution_count": 34,
     "metadata": {},
     "output_type": "execute_result"
    }
   ],
   "source": [
    "# calculating outliers percentage\n",
    "(site_data.shape[0] - data_site_clean.shape[0]) / site_data.shape[0] * 100"
   ]
  },
  {
   "cell_type": "markdown",
   "metadata": {},
   "source": [
    "the outliers is around 49% of the dataset"
   ]
  },
  {
   "cell_type": "code",
   "execution_count": 35,
   "metadata": {},
   "outputs": [
    {
     "data": {
      "image/png": "[encoded data removed]",
      "text/plain": [
       "<Figure size 432x288 with 1 Axes>"
      ]
     },
     "metadata": {},
     "output_type": "display_data"
    }
   ],
   "source": [
    "# new plot for cleaned data\n",
    "\n",
    "data_site_clean['load_weight'].plot.hist(title='Load weight distribution', color='lightblue', bins=25)  \n",
    "plt.axvline(data_site_clean['load_weight'].mean(), color='magenta', linestyle='dashed', linewidth=2)\n",
    "plt.axvline(data_site_clean['load_weight'].median(), color='green', linestyle='dashed', linewidth=2)\n",
    "plt.show()"
   ]
  },
  {
   "cell_type": "markdown",
   "metadata": {},
   "source": [
    "## VI. Range, Variance, and Std deviation."
   ]
  },
  {
   "cell_type": "code",
   "execution_count": 36,
   "metadata": {},
   "outputs": [
    {
     "data": {
      "text/plain": [
       "12840.0"
      ]
     },
     "execution_count": 36,
     "metadata": {},
     "output_type": "execute_result"
    }
   ],
   "source": [
    "# Calculating range\n",
    "data_range = data_site_clean['load_weight'].max() - data_site_clean['load_weight'].min()\n",
    "data_range"
   ]
  },
  {
   "cell_type": "markdown",
   "metadata": {},
   "source": [
    "the range between the maximum and minimum values of the data is 12840"
   ]
  },
  {
   "cell_type": "code",
   "execution_count": 37,
   "metadata": {},
   "outputs": [
    {
     "data": {
      "text/plain": [
       "14185417.0321468"
      ]
     },
     "execution_count": 37,
     "metadata": {},
     "output_type": "execute_result"
    }
   ],
   "source": [
    "# Calculating variance\n",
    "data_site_clean['load_weight'].var()"
   ]
  },
  {
   "cell_type": "code",
   "execution_count": 38,
   "metadata": {},
   "outputs": [
    {
     "data": {
      "text/plain": [
       "3766.353280315961"
      ]
     },
     "execution_count": 38,
     "metadata": {},
     "output_type": "execute_result"
    }
   ],
   "source": [
    "# Calculating std devation\n",
    "data_site_clean['load_weight'].std()"
   ]
  },
  {
   "cell_type": "markdown",
   "metadata": {},
   "source": [
    "## VII. Analysis for a new drop off site"
   ]
  },
  {
   "cell_type": "markdown",
   "metadata": {},
   "source": [
    "### a. Calculate how much load_weight needed to make a new site"
   ]
  },
  {
   "cell_type": "code",
   "execution_count": 39,
   "metadata": {},
   "outputs": [
    {
     "data": {
      "text/plain": [
       "(12026.349512411238, 12196.377488690101)"
      ]
     },
     "execution_count": 39,
     "metadata": {},
     "output_type": "execute_result"
    }
   ],
   "source": [
    "# create 95% confidence intervals from all the dropoff sites\n",
    "stats.t.interval(alpha=0.95, df=len(cleaned_data['load_weight']),\n",
    "              loc=np.mean(cleaned_data['load_weight']),\n",
    "              scale=stats.sem(cleaned_data['load_weight']))"
   ]
  },
  {
   "cell_type": "markdown",
   "metadata": {},
   "source": [
    "From the confidence intervals we got, we should take the upper limits of the load which is 12196.38 to make sure we can handle all the weight.\n",
    "We take the data from all the dropoff sites in austin."
   ]
  },
  {
   "cell_type": "markdown",
   "metadata": {},
   "source": [
    "## VIII. Hypothesis testing"
   ]
  },
  {
   "cell_type": "markdown",
   "metadata": {},
   "source": [
    "h0: a day after 4th of july (us independence) which is 5th of july, there are more garbage produced compares to any other day outside thanksgiving and christmas\n",
    "\n",
    "h1: a day after 4th of july (us independence) which is 5th of july, there are more garbage produced compares to any other day outside thanksgiving and christmas"
   ]
  },
  {
   "cell_type": "code",
   "execution_count": 40,
   "metadata": {},
   "outputs": [
    {
     "data": {
      "text/plain": [
       "2236555.0"
      ]
     },
     "execution_count": 40,
     "metadata": {},
     "output_type": "execute_result"
    }
   ],
   "source": [
    "date_span_group['load_weight'].median()"
   ]
  },
  {
   "cell_type": "code",
   "execution_count": 41,
   "metadata": {},
   "outputs": [
    {
     "name": "stderr",
     "output_type": "stream",
     "text": [
      "/tmp/ipykernel_15976/1492061982.py:1: FutureWarning: Dropping of nuisance columns in DataFrame reductions (with 'numeric_only=None') is deprecated; in a future version this will raise TypeError.  Select only valid columns before calling the reduction.\n",
      "  median_daily = date_span_group[(date_span_group['report_date'] < '2021-07-04') &\n"
     ]
    },
    {
     "data": {
      "text/plain": [
       "load_weight    2171550.0\n",
       "dtype: float64"
      ]
     },
     "execution_count": 41,
     "metadata": {},
     "output_type": "execute_result"
    }
   ],
   "source": [
    "median_daily = date_span_group[(date_span_group['report_date'] < '2021-07-04') &\n",
    "                (date_span_group['report_date'] > '2021-06-04')].median()\n",
    "\n",
    "median_daily"
   ]
  },
  {
   "cell_type": "code",
   "execution_count": 42,
   "metadata": {},
   "outputs": [
    {
     "data": {
      "text/plain": [
       "161    1897290.0\n",
       "Name: load_weight, dtype: float64"
      ]
     },
     "execution_count": 42,
     "metadata": {},
     "output_type": "execute_result"
    }
   ],
   "source": [
    "fifth_of_july = date_span_group[(date_span_group['report_date'] == '2021-07-05')]['load_weight']\n",
    "fifth_of_july"
   ]
  },
  {
   "cell_type": "markdown",
   "metadata": {},
   "source": [
    "simplified\n",
    "\n",
    "h0: load_weight on 5th of july (1897290.0) > mean of load_weight\n",
    "\n",
    "h1: load_weight on 5th of july (1897290.0) <= mean of load_weight"
   ]
  },
  {
   "cell_type": "code",
   "execution_count": 43,
   "metadata": {},
   "outputs": [
    {
     "name": "stdout",
     "output_type": "stream",
     "text": [
      "P-value: 0.4440386391896356\n",
      "t-statistics: 0.14095519153962555\n"
     ]
    }
   ],
   "source": [
    "t_stat,p_val = stats.ttest_1samp(date_span_group['load_weight'], 1897290.0)\n",
    "print('P-value:',p_val/2)\n",
    "print('t-statistics:',t_stat)"
   ]
  },
  {
   "cell_type": "markdown",
   "metadata": {},
   "source": [
    "**Since our p-value is more than `0.05`, so we accept the null hypothesis**"
   ]
  },
  {
   "cell_type": "markdown",
   "metadata": {},
   "source": [
    "# Analysis points\n",
    "\n",
    "from the data we explore, we found that TDS Landfill has the most garbage dropped. The average of garbage collected on Austin per-day is around 12111 pounds.There are a couple of dropoff sites that has only 1 reported data, whether it is erroneous or not, we dont know. \n",
    "\n",
    "Every sunday, there seems to be no report, perhaps because nobody work on sunday. And on saturday, there are less garbage collected compares to normal workdays.\n",
    "\n",
    "If the government of Austin decides to build a new Garbage sites, which we dont recommend, if the data to be trusted, it is better to maximize the productivty of the non productive dropoff sites. That said, if the government is inclined to build a new Garbage sites, it should at least able to handle the load for 12197 Pounds\n",
    "\n"
   ]
  }
 ],
 "metadata": {
  "kernelspec": {
   "display_name": "Python 3.9.12 ('base')",
   "language": "python",
   "name": "python3"
  },
  "language_info": {
   "codemirror_mode": {
    "name": "ipython",
    "version": 3
   },
   "file_extension": ".py",
   "mimetype": "text/x-python",
   "name": "python",
   "nbconvert_exporter": "python",
   "pygments_lexer": "ipython3",
   "version": "3.9.12"
  },
  "orig_nbformat": 4,
  "vscode": {
   "interpreter": {
    "hash": "1b15b47e994a45b2c1c9c2019b348cb81bbb68780db9285c808c045d049d064a"
   }
  }
 },
 "nbformat": 4,
 "nbformat_minor": 2
}
